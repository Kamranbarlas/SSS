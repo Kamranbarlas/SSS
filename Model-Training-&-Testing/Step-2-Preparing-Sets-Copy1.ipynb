{
 "cells": [
  {
   "cell_type": "code",
   "execution_count": 2,
   "metadata": {},
   "outputs": [],
   "source": [
    "import glob\n",
    "import numpy as np\n",
    "import os\n",
    "import shutil\n",
    "np.random.seed(42)\n",
    "import win32api\n",
    "from scipy import ndarray\n",
    "import skimage as sk\n",
    "from skimage import transform\n",
    "from skimage import util\n",
    "from skimage import io\n",
    "import random\n",
    "%matplotlib inline"
   ]
  },
  {
   "cell_type": "code",
   "execution_count": 185,
   "metadata": {},
   "outputs": [],
   "source": [
    "folder_path = 'Labeled-Data'\n",
    "files = [os.path.join(folder_path, f) for f in os.listdir(folder_path)]\n",
    "student=None\n",
    "student_name=[]\n",
    "file_no=0\n",
    "#print(files)\n",
    "for f in files:\n",
    "        student=f.split('\\\\')[-1].split('.')[0].strip()\n",
    "        if student not in student_name:\n",
    "            student_name.append(student)\n",
    "        #print(student)\n",
    "#print(student_name)"
   ]
  },
  {
   "cell_type": "code",
   "execution_count": 188,
   "metadata": {
    "scrolled": true
   },
   "outputs": [],
   "source": [
    "train_dir = 'training_data'\n",
    "val_dir = 'validation_data'\n",
    "test_dir = 'test_data'\n",
    "os.mkdir(train_dir) if not os.path.isdir(train_dir) else None\n",
    "os.mkdir(val_dir) if not os.path.isdir(val_dir) else None\n",
    "os.mkdir(test_dir) if not os.path.isdir(test_dir) else None\n",
    "for i in student_name:\n",
    "    student_files=[fn for fn in files if i in fn]\n",
    "    #print(i,'(',len(student_files),')',\"\",end='')\n",
    "    student_list=[]\n",
    "    student=f.split('\\\\')[-1].split('.')[0].strip()\n",
    "    if student not in student_list:\n",
    "            student_list.append(student)\n",
    "    for a in student_list:\n",
    "                student_train=np.random.choice(student_files, size=8, replace=False)\n",
    "                #print(student_train)\n",
    "                train_files = np.concatenate([student_train])\n",
    "                for fn in train_files:\n",
    "                    shutil.copy(fn, train_dir)\n",
    "                #print(train_files)\n",
    "    student_files = list(set(student_files) - set(student_train))\n",
    "    for b in student_list:\n",
    "                student_val=np.random.choice(student_files, size=3, replace=False)\n",
    "                validate_files = np.concatenate([student_val])\n",
    "                for fn in validate_files:\n",
    "                    shutil.copy(fn, val_dir)\n",
    "                #print(validate_files)\n",
    "                #print(student_val)\n",
    "    student_files = list(set(student_files) - set(student_val))\n",
    "    for c in student_list:\n",
    "                student_test=np.random.choice(student_files, size=2, replace=False)\n",
    "                test_files = np.concatenate([student_test])\n",
    "                for fn in test_files:\n",
    "                    shutil.copy(fn, test_dir)\n",
    "                #print(student_test)\n",
    "    student_files = list(set(student_files) - set(student_test))\n",
    "\n",
    "\n",
    "\n",
    "\n",
    "    \n",
    "    \n",
    "   "
   ]
  },
  {
   "cell_type": "code",
   "execution_count": null,
   "metadata": {},
   "outputs": [],
   "source": []
  }
 ],
 "metadata": {
  "kernelspec": {
   "display_name": "Python 3",
   "language": "python",
   "name": "python3"
  },
  "language_info": {
   "codemirror_mode": {
    "name": "ipython",
    "version": 3
   },
   "file_extension": ".py",
   "mimetype": "text/x-python",
   "name": "python",
   "nbconvert_exporter": "python",
   "pygments_lexer": "ipython3",
   "version": "3.7.3"
  }
 },
 "nbformat": 4,
 "nbformat_minor": 2
}
