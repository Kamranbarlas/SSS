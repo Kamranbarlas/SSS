{
 "cells": [
  {
   "cell_type": "code",
   "execution_count": 1,
   "metadata": {},
   "outputs": [
    {
     "name": "stderr",
     "output_type": "stream",
     "text": [
      "Using TensorFlow backend.\n"
     ]
    }
   ],
   "source": [
    "import glob\n",
    "import numpy as np\n",
    "import matplotlib.pyplot as plt\n",
    "from keras.preprocessing.image import ImageDataGenerator, load_img, img_to_array, array_to_img\n",
    "from keras.utils import to_categorical\n",
    "%matplotlib inline\n"
   ]
  },
  {
   "cell_type": "code",
   "execution_count": 2,
   "metadata": {},
   "outputs": [
    {
     "name": "stdout",
     "output_type": "stream",
     "text": [
      "Train dataset shape: (346, 150, 150, 3) \tValidation dataset shape: (138, 150, 150, 3)\n",
      "['Ahmed', 'Ahmed', 'Ahmed', 'Ahmed', 'Ahmed', 'Ahmed', 'Ahmed', 'Ahsan', 'Ahsan', 'Ahsan', 'Ahsan', 'Ahsan', 'Ahsan', 'Ahsan', 'Ahsan', 'Ahsan', 'Ahsan', 'Ahsan', 'Ahsan', 'Ahsan', 'Anus', 'Anus', 'Anus', 'Anus', 'Anus', 'Anus', 'Anus', 'Anus', 'Anus', 'Anus', 'Anus', 'Baber', 'Baber', 'Baber', 'Baber', 'Baber', 'Baber', 'Baber', 'Baber', 'Baber', 'Baber', 'Baber', 'Baber', 'Baber', 'Baber', 'Bilal', 'Bilal', 'Bilal', 'Bilal', 'Bilal', 'Bilal', 'Bilal', 'Bilal', 'Bilal', 'Bilal', 'Bilal', 'Bilal', 'Bilal', 'Bilal', 'Bilal', 'Haider', 'Haider', 'Haider', 'Haider', 'Haider', 'Haider', 'Haider', 'Haider', 'Haider', 'Haider', 'Haider', 'Hamna', 'Hamna', 'Hamna', 'Hamna', 'Hamna', 'Hamna', 'Hamna', 'Hamna', 'Hamna', 'Hamna', 'Hamna', 'Hamna', 'Hamna', 'Hamna', 'Hamna', 'Hamna', 'Kamran', 'Kamran', 'Kamran', 'Kamran', 'Kamran', 'Kamran', 'Kamran', 'Kamran', 'Kamran', 'Kamran', 'Kamran', 'Kamran', 'Kamran', 'Kamran', 'Kamran', 'Kamran', 'Khalid', 'Khalid', 'Khalid', 'Khalid', 'Khalid', 'Khalid', 'Khalid', 'Khalid', 'Khalid', 'Khalid', 'Khalid', 'Khalid', 'Khalid', 'Khalid', 'Khalid', 'Maaz', 'Maaz', 'Maaz', 'Maaz', 'Maaz', 'Maaz', 'Maaz', 'Maaz', 'Maaz', 'Maaz', 'Maaz', 'Maaz', 'Maaz', 'Maaz', 'Maaz', 'Maaz', 'Mir Ahmed Gichki', 'Mir Ahmed Gichki', 'Mir Ahmed Gichki', 'Mir Ahmed Gichki', 'Mir Ahmed Gichki', 'Mir Ahmed Gichki', 'Mir Ahmed Gichki', 'Mir Ahmed Gichki', 'Mir Ahmed Gichki', 'Mir Ahmed Gichki', 'Mir Ahmed Gichki', 'Mir Ahmed Gichki', 'Mir Ahmed Gichki', 'Mir Ahmed Gichki', 'Mir Ahmed Gichki', 'Mir Ahmed Gichki', 'Mir Ahmed Gichki', 'Mir Ahmed Gichki', 'Mir Ahmed Gichki', 'Mir Ahmed Gichki', 'Mir Ahmed Gichki', 'Mir Ahmed Gichki', 'Mir Ahmed Gichki', 'mohiudeen', 'mohiudeen', 'mohiudeen', 'mohiudeen', 'mohiudeen', 'mohiudeen', 'mohiudeen', 'mohiudeen', 'mohiudeen', 'mohiudeen', 'mohiudeen', 'mohiudeen', 'mohiudeen', 'mohiudeen', 'mohiudeen', 'mohsin', 'mohsin', 'mohsin', 'mohsin', 'mohsin', 'mohsin', 'mohsin', 'mohsin', 'mohsin', 'mohsin', 'mohsin', 'mohsin', 'mohsin', 'mohsin', 'Muzammil', 'Muzammil', 'Muzammil', 'Muzammil', 'Muzammil', 'Muzammil', 'Muzammil4', 'Muzammil4', 'Muzammil4', 'Muzammil4', 'Muzammil4', 'Muzammil4', 'Muzammil4', 'Muzammil4', 'Muzammil4', 'Muzammil4', 'Muzammil4', 'Muzammil4', 'Muzammil4', 'Muzammil4', 'Muzammil4', 'Muzammil4', 'Muzammil4', 'Muzammil4', 'Muzammil4', 'Muzammil4', 'Muzammil4', 'Muzammil4', 'Muzammil4', 'Muzammil4', 'Osama Ali', 'Osama Ali', 'Osama Ali', 'Osama Ali', 'Osama Ali', 'Osama Ali', 'Osama Ali', 'Osama Ali', 'Osama Ali', 'Osama Ali', 'Osama Ali', 'Osama Ali', 'Osama Ali', 'Osama Ali', 'Osama Ali', 'Osama Ali', 'osama', 'osama', 'osama', 'osama', 'osama', 'osama', 'osama', 'osama', 'osama', 'osama', 'osama', 'osama', 'osama', 'osama', 'osama', 'Saad', 'Saad', 'Saad', 'Saad', 'Saad', 'Saad', 'Saad', 'Saad', 'Saad', 'Saad', 'Saad', 'Saad', 'Saad', 'Saqib', 'Saqib', 'Saqib', 'Saqib', 'Saqib', 'Saqib', 'Saqib', 'Saqib', 'Saqib', 'Saqib', 'Saqib', 'Saqib', 'Saqib', 'Saqib', 'Saqib', 'Saqib', 'Sayem', 'Sayem', 'Sayem', 'Sayem', 'Sayem', 'Sayem', 'Sayem', 'Sayem', 'Sayem', 'Sayem', 'Sayem', 'Sayem', 'taskeen', 'taskeen', 'taskeen', 'taskeen', 'taskeen', 'taskeen', 'taskeen', 'taskeen', 'taskeen', 'taskeen', 'taskeen', 'taskeen', 'taskeen', 'tiham', 'tiham', 'tiham', 'tiham', 'tiham', 'tiham', 'tiham', 'tiham', 'tiham', 'tiham', 'tiham', 'tiham', 'tiham', 'tiham', 'tiham', 'usman', 'usman', 'usman', 'usman', 'usman', 'usman', 'usman', 'usman', 'usman', 'usman', 'usman', 'usman', 'usman', 'usman', 'usman', 'usman', 'wara', 'wara', 'wara', 'wara', 'wara', 'wara', 'wara', 'wara', 'wara', 'wara', 'wara', 'wara', 'wara', 'wara'] [[1. 0. 0. ... 0. 0. 0.]\n",
      " [1. 0. 0. ... 0. 0. 0.]\n",
      " [1. 0. 0. ... 0. 0. 0.]\n",
      " ...\n",
      " [0. 0. 0. ... 0. 0. 0.]\n",
      " [0. 0. 0. ... 0. 0. 0.]\n",
      " [0. 0. 0. ... 0. 0. 0.]]\n"
     ]
    }
   ],
   "source": [
    "IMG_DIM = (150, 150)\n",
    "\n",
    "train_files = glob.glob('training_data/*')\n",
    "train_imgs = [img_to_array(load_img(img, target_size=IMG_DIM)) for img in train_files]\n",
    "train_imgs = np.array(train_imgs)\n",
    "train_labels = [fn.split('\\\\')[1].split('.')[0].strip() for fn in train_files]\n",
    "\n",
    "validation_files = glob.glob('validation_data/*')\n",
    "validation_imgs = [img_to_array(load_img(img, target_size=IMG_DIM)) for img in validation_files]\n",
    "validation_imgs = np.array(validation_imgs)\n",
    "validation_labels = [fn.split('\\\\')[1].split('.')[0].strip() for fn in validation_files]\n",
    "\n",
    "print('Train dataset shape:', train_imgs.shape, \n",
    "      '\\tValidation dataset shape:', validation_imgs.shape)\n",
    "\n",
    "\n",
    "train_imgs_scaled = train_imgs.astype('float32')\n",
    "validation_imgs_scaled  = validation_imgs.astype('float32')\n",
    "train_imgs_scaled /= 255\n",
    "validation_imgs_scaled /= 255\n",
    "\n",
    "batch_size = 347\n",
    "num_classes = 347\n",
    "epochs =10\n",
    "\n",
    "\n",
    "# encode text category labels\n",
    "from sklearn.preprocessing import LabelEncoder\n",
    "\n",
    "le = LabelEncoder() \n",
    "le.fit(train_labels)\n",
    "train_labels_enc =le.transform(train_labels)\n",
    "train_labels_enc=to_categorical(train_labels_enc)\n",
    "validation_labels_enc = le.transform(validation_labels)\n",
    "validation_labels_enc =to_categorical(validation_labels_enc)\n",
    "print(train_labels,train_labels_enc[2:100])\n",
    "\n"
   ]
  },
  {
   "cell_type": "code",
   "execution_count": 3,
   "metadata": {
    "scrolled": true
   },
   "outputs": [
    {
     "name": "stdout",
     "output_type": "stream",
     "text": [
      "WARNING:tensorflow:From D:\\Anaconda\\lib\\site-packages\\keras\\backend\\tensorflow_backend.py:4070: The name tf.nn.max_pool is deprecated. Please use tf.nn.max_pool2d instead.\n",
      "\n",
      "Model: \"sequential_1\"\n",
      "_________________________________________________________________\n",
      "Layer (type)                 Output Shape              Param #   \n",
      "=================================================================\n",
      "conv2d_1 (Conv2D)            (None, 148, 148, 16)      448       \n",
      "_________________________________________________________________\n",
      "max_pooling2d_1 (MaxPooling2 (None, 74, 74, 16)        0         \n",
      "_________________________________________________________________\n",
      "conv2d_2 (Conv2D)            (None, 72, 72, 64)        9280      \n",
      "_________________________________________________________________\n",
      "max_pooling2d_2 (MaxPooling2 (None, 36, 36, 64)        0         \n",
      "_________________________________________________________________\n",
      "conv2d_3 (Conv2D)            (None, 34, 34, 128)       73856     \n",
      "_________________________________________________________________\n",
      "max_pooling2d_3 (MaxPooling2 (None, 17, 17, 128)       0         \n",
      "_________________________________________________________________\n",
      "flatten_1 (Flatten)          (None, 36992)             0         \n",
      "_________________________________________________________________\n",
      "dense_1 (Dense)              (None, 24)                887832    \n",
      "=================================================================\n",
      "Total params: 971,416\n",
      "Trainable params: 971,416\n",
      "Non-trainable params: 0\n",
      "_________________________________________________________________\n",
      "WARNING:tensorflow:From D:\\Anaconda\\lib\\site-packages\\tensorflow\\python\\ops\\math_grad.py:1250: add_dispatch_support.<locals>.wrapper (from tensorflow.python.ops.array_ops) is deprecated and will be removed in a future version.\n",
      "Instructions for updating:\n",
      "Use tf.where in 2.0, which has the same broadcast rule as np.where\n",
      "WARNING:tensorflow:From D:\\Anaconda\\lib\\site-packages\\keras\\backend\\tensorflow_backend.py:422: The name tf.global_variables is deprecated. Please use tf.compat.v1.global_variables instead.\n",
      "\n",
      "Train on 346 samples, validate on 138 samples\n",
      "Epoch 1/10\n",
      "346/346 [==============================] - 35s 101ms/step - loss: 3.1802 - accuracy: 0.0376 - val_loss: 3.1616 - val_accuracy: 0.0725\n",
      "Epoch 2/10\n",
      "346/346 [==============================] - 29s 85ms/step - loss: 3.1503 - accuracy: 0.0780 - val_loss: 3.0303 - val_accuracy: 0.3478\n",
      "Epoch 3/10\n",
      "346/346 [==============================] - 21s 61ms/step - loss: 3.0212 - accuracy: 0.3295 - val_loss: 2.6411 - val_accuracy: 0.4275\n",
      "Epoch 4/10\n",
      "346/346 [==============================] - 21s 62ms/step - loss: 2.6232 - accuracy: 0.4509 - val_loss: 2.1278 - val_accuracy: 0.3043\n",
      "Epoch 5/10\n",
      "346/346 [==============================] - 22s 65ms/step - loss: 2.0537 - accuracy: 0.3353 - val_loss: 4.1198 - val_accuracy: 0.5435\n",
      "Epoch 6/10\n",
      "346/346 [==============================] - 23s 66ms/step - loss: 4.0605 - accuracy: 0.5607 - val_loss: 2.6164 - val_accuracy: 0.4203\n",
      "Epoch 7/10\n",
      "346/346 [==============================] - 21s 61ms/step - loss: 2.5783 - accuracy: 0.4335 - val_loss: 2.1492 - val_accuracy: 0.7391\n",
      "Epoch 8/10\n",
      "346/346 [==============================] - 21s 61ms/step - loss: 2.0869 - accuracy: 0.7457 - val_loss: 1.2343 - val_accuracy: 0.8623\n",
      "Epoch 9/10\n",
      "346/346 [==============================] - 21s 61ms/step - loss: 1.1236 - accuracy: 0.9046 - val_loss: 0.7472 - val_accuracy: 0.8551\n",
      "Epoch 10/10\n",
      "346/346 [==============================] - 21s 62ms/step - loss: 0.6106 - accuracy: 0.8815 - val_loss: 2.2299 - val_accuracy: 0.6449\n"
     ]
    },
    {
     "ename": "KeyError",
     "evalue": "'acc'",
     "output_type": "error",
     "traceback": [
      "\u001b[1;31m---------------------------------------------------------------------------\u001b[0m",
      "\u001b[1;31mKeyError\u001b[0m                                  Traceback (most recent call last)",
      "\u001b[1;32m<ipython-input-3-3c2024ad7370>\u001b[0m in \u001b[0;36m<module>\u001b[1;34m\u001b[0m\n\u001b[0;32m     42\u001b[0m \u001b[1;33m\u001b[0m\u001b[0m\n\u001b[0;32m     43\u001b[0m \u001b[0mepoch_list\u001b[0m \u001b[1;33m=\u001b[0m \u001b[0mlist\u001b[0m\u001b[1;33m(\u001b[0m\u001b[0mrange\u001b[0m\u001b[1;33m(\u001b[0m\u001b[1;36m1\u001b[0m\u001b[1;33m,\u001b[0m\u001b[1;36m31\u001b[0m\u001b[1;33m)\u001b[0m\u001b[1;33m)\u001b[0m\u001b[1;33m\u001b[0m\u001b[1;33m\u001b[0m\u001b[0m\n\u001b[1;32m---> 44\u001b[1;33m \u001b[0max1\u001b[0m\u001b[1;33m.\u001b[0m\u001b[0mplot\u001b[0m\u001b[1;33m(\u001b[0m\u001b[0mepoch_list\u001b[0m\u001b[1;33m,\u001b[0m \u001b[0mhistory\u001b[0m\u001b[1;33m.\u001b[0m\u001b[0mhistory\u001b[0m\u001b[1;33m[\u001b[0m\u001b[1;34m'acc'\u001b[0m\u001b[1;33m]\u001b[0m\u001b[1;33m,\u001b[0m \u001b[0mlabel\u001b[0m\u001b[1;33m=\u001b[0m\u001b[1;34m'Train Accuracy'\u001b[0m\u001b[1;33m)\u001b[0m\u001b[1;33m\u001b[0m\u001b[1;33m\u001b[0m\u001b[0m\n\u001b[0m\u001b[0;32m     45\u001b[0m \u001b[0max1\u001b[0m\u001b[1;33m.\u001b[0m\u001b[0mplot\u001b[0m\u001b[1;33m(\u001b[0m\u001b[0mepoch_list\u001b[0m\u001b[1;33m,\u001b[0m \u001b[0mhistory\u001b[0m\u001b[1;33m.\u001b[0m\u001b[0mhistory\u001b[0m\u001b[1;33m[\u001b[0m\u001b[1;34m'val_acc'\u001b[0m\u001b[1;33m]\u001b[0m\u001b[1;33m,\u001b[0m \u001b[0mlabel\u001b[0m\u001b[1;33m=\u001b[0m\u001b[1;34m'Validation Accuracy'\u001b[0m\u001b[1;33m)\u001b[0m\u001b[1;33m\u001b[0m\u001b[1;33m\u001b[0m\u001b[0m\n\u001b[0;32m     46\u001b[0m \u001b[0max1\u001b[0m\u001b[1;33m.\u001b[0m\u001b[0mset_xticks\u001b[0m\u001b[1;33m(\u001b[0m\u001b[0mnp\u001b[0m\u001b[1;33m.\u001b[0m\u001b[0marange\u001b[0m\u001b[1;33m(\u001b[0m\u001b[1;36m0\u001b[0m\u001b[1;33m,\u001b[0m \u001b[1;36m31\u001b[0m\u001b[1;33m,\u001b[0m \u001b[1;36m5\u001b[0m\u001b[1;33m)\u001b[0m\u001b[1;33m)\u001b[0m\u001b[1;33m\u001b[0m\u001b[1;33m\u001b[0m\u001b[0m\n",
      "\u001b[1;31mKeyError\u001b[0m: 'acc'"
     ]
    },
    {
     "data": {
      "image/png": "[encoded data removed]",
      "text/plain": [
       "<Figure size 864x288 with 2 Axes>"
      ]
     },
     "metadata": {
      "needs_background": "light"
     },
     "output_type": "display_data"
    }
   ],
   "source": [
    "from keras.layers import Conv2D, MaxPooling2D, Flatten, Dense, Dropout\n",
    "from keras.models import Sequential\n",
    "from keras import optimizers\n",
    "input_shape = (150, 150, 3)\n",
    "model = Sequential()\n",
    "\n",
    "model.add(Conv2D(16, kernel_size=(3, 3), activation='relu', \n",
    "                 input_shape=input_shape))\n",
    "model.add(MaxPooling2D(pool_size=(2, 2)))\n",
    "\n",
    "model.add(Conv2D(64, kernel_size=(3, 3), activation='relu'))\n",
    "model.add(MaxPooling2D(pool_size=(2, 2)))\n",
    "\n",
    "model.add(Conv2D(128, kernel_size=(3, 3), activation='relu'))\n",
    "model.add(MaxPooling2D(pool_size=(2, 2)))\n",
    "\n",
    "\n",
    "\n",
    "model.add(Flatten())\n",
    "model.add(Dense(24, activation='sigmoid'))\n",
    "\n",
    "\n",
    "model.compile(loss='categorical_crossentropy',\n",
    "              optimizer=optimizers.RMSprop(learning_rate=0.001, rho=0.9),\n",
    "              metrics=['accuracy'])\n",
    "              \n",
    "\n",
    "\n",
    "model.summary()\n",
    "\n",
    "\n",
    "\n",
    "history = model.fit(x=train_imgs_scaled, y=train_labels_enc,\n",
    "                    validation_data=(validation_imgs_scaled, validation_labels_enc),\n",
    "                    batch_size=batch_size,\n",
    "                    epochs=epochs,\n",
    "                    verbose=1)\n",
    "\n",
    "f, (ax1, ax2) = plt.subplots(1, 2, figsize=(12, 4))\n",
    "t = f.suptitle('Basic CNN Performance', fontsize=12)\n",
    "f.subplots_adjust(top=0.85, wspace=0.3)\n",
    "\n",
    "epoch_list = list(range(1,31))\n",
    "ax1.plot(epoch_list, history.history['acc'], label='Train Accuracy')\n",
    "ax1.plot(epoch_list, history.history['val_acc'], label='Validation Accuracy')\n",
    "ax1.set_xticks(np.arange(0, 31, 5))\n",
    "ax1.set_ylabel('Accuracy Value')\n",
    "ax1.set_xlabel('Epoch')\n",
    "ax1.set_title('Accuracy')\n",
    "l1 = ax1.legend(loc=\"best\")\n",
    "\n",
    "ax2.plot(epoch_list, history.history['loss'], label='Train Loss')\n",
    "ax2.plot(epoch_list, history.history['val_loss'], label='Validation Loss')\n",
    "ax2.set_xticks(np.arange(0, 31, 5))\n",
    "ax2.set_ylabel('Loss Value')\n",
    "ax2.set_xlabel('Epoch')\n",
    "ax2.set_title('Loss')\n",
    "l2 = ax2.legend(loc=\"best\")"
   ]
  },
  {
   "cell_type": "code",
   "execution_count": 4,
   "metadata": {},
   "outputs": [],
   "source": [
    "model.save('university_data_basic.h5')"
   ]
  }
 ],
 "metadata": {
  "kernelspec": {
   "display_name": "Python 3",
   "language": "python",
   "name": "python3"
  },
  "language_info": {
   "codemirror_mode": {
    "name": "ipython",
    "version": 3
   },
   "file_extension": ".py",
   "mimetype": "text/x-python",
   "name": "python",
   "nbconvert_exporter": "python",
   "pygments_lexer": "ipython3",
   "version": "3.7.3"
  }
 },
 "nbformat": 4,
 "nbformat_minor": 2
}
