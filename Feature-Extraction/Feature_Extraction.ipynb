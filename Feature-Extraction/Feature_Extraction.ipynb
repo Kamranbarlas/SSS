{
  "nbformat": 4,
  "nbformat_minor": 0,
  "metadata": {
    "kernelspec": {
      "display_name": "Python 3",
      "language": "python",
      "name": "python3"
    },
    "language_info": {
      "codemirror_mode": {
        "name": "ipython",
        "version": 3
      },
      "file_extension": ".py",
      "mimetype": "text/x-python",
      "name": "python",
      "nbconvert_exporter": "python",
      "pygments_lexer": "ipython3",
      "version": "3.7.3"
    },
    "colab": {
      "name": "VGG16-Feature-Extraction.ipynb",
      "provenance": [],
      "collapsed_sections": []
    }
  },
  "cells": [
    {
      "cell_type": "code",
      "metadata": {
        "id": "h1b_Wn-TmVVe",
        "colab_type": "code",
        "outputId": "8b22a283-ad94-422b-a330-ff373be56e5b",
        "colab": {
          "base_uri": "https://localhost:8080/",
          "height": 34
        }
      },
      "source": [
        "from google.colab import drive\n",
        "drive.mount('/content/drive')"
      ],
      "execution_count": 28,
      "outputs": [
        {
          "output_type": "stream",
          "text": [
            "Mounted at /content/drive\n"
          ],
          "name": "stdout"
        }
      ]
    },
    {
      "cell_type": "code",
      "metadata": {
        "id": "_wHWsaGrlljo",
        "colab_type": "code",
        "outputId": "e3fc0e7a-d682-41e7-8532-b3f1624eb248",
        "colab": {
          "base_uri": "https://localhost:8080/",
          "height": 428
        }
      },
      "source": [
        "from keras.applications import VGG16\n",
        "conv_base = VGG16(weights='imagenet',\n",
        "include_top=False,\n",
        "input_shape=(150, 150, 3))"
      ],
      "execution_count": 2,
      "outputs": [
        {
          "output_type": "stream",
          "text": [
            "Using TensorFlow backend.\n"
          ],
          "name": "stderr"
        },
        {
          "output_type": "stream",
          "text": [
            "WARNING:tensorflow:From /usr/local/lib/python3.6/dist-packages/keras/backend/tensorflow_backend.py:66: The name tf.get_default_graph is deprecated. Please use tf.compat.v1.get_default_graph instead.\n",
            "\n",
            "WARNING:tensorflow:From /usr/local/lib/python3.6/dist-packages/keras/backend/tensorflow_backend.py:541: The name tf.placeholder is deprecated. Please use tf.compat.v1.placeholder instead.\n",
            "\n",
            "WARNING:tensorflow:From /usr/local/lib/python3.6/dist-packages/keras/backend/tensorflow_backend.py:4432: The name tf.random_uniform is deprecated. Please use tf.random.uniform instead.\n",
            "\n",
            "WARNING:tensorflow:From /usr/local/lib/python3.6/dist-packages/keras/backend/tensorflow_backend.py:4267: The name tf.nn.max_pool is deprecated. Please use tf.nn.max_pool2d instead.\n",
            "\n",
            "Downloading data from https://github.com/fchollet/deep-learning-models/releases/download/v0.1/vgg16_weights_tf_dim_ordering_tf_kernels_notop.h5\n",
            "58892288/58889256 [==============================] - 42s 1us/step\n",
            "WARNING:tensorflow:From /usr/local/lib/python3.6/dist-packages/keras/backend/tensorflow_backend.py:190: The name tf.get_default_session is deprecated. Please use tf.compat.v1.get_default_session instead.\n",
            "\n",
            "WARNING:tensorflow:From /usr/local/lib/python3.6/dist-packages/keras/backend/tensorflow_backend.py:197: The name tf.ConfigProto is deprecated. Please use tf.compat.v1.ConfigProto instead.\n",
            "\n",
            "WARNING:tensorflow:From /usr/local/lib/python3.6/dist-packages/keras/backend/tensorflow_backend.py:203: The name tf.Session is deprecated. Please use tf.compat.v1.Session instead.\n",
            "\n",
            "WARNING:tensorflow:From /usr/local/lib/python3.6/dist-packages/keras/backend/tensorflow_backend.py:207: The name tf.global_variables is deprecated. Please use tf.compat.v1.global_variables instead.\n",
            "\n",
            "WARNING:tensorflow:From /usr/local/lib/python3.6/dist-packages/keras/backend/tensorflow_backend.py:216: The name tf.is_variable_initialized is deprecated. Please use tf.compat.v1.is_variable_initialized instead.\n",
            "\n",
            "WARNING:tensorflow:From /usr/local/lib/python3.6/dist-packages/keras/backend/tensorflow_backend.py:223: The name tf.variables_initializer is deprecated. Please use tf.compat.v1.variables_initializer instead.\n",
            "\n"
          ],
          "name": "stdout"
        }
      ]
    },
    {
      "cell_type": "code",
      "metadata": {
        "id": "EZrg7x9Hlmtu",
        "colab_type": "code",
        "outputId": "681292d0-d74a-4bd0-cb62-363dba0571ff",
        "colab": {
          "base_uri": "https://localhost:8080/",
          "height": 799
        }
      },
      "source": [
        " conv_base.summary()\n"
      ],
      "execution_count": 3,
      "outputs": [
        {
          "output_type": "stream",
          "text": [
            "Model: \"vgg16\"\n",
            "_________________________________________________________________\n",
            "Layer (type)                 Output Shape              Param #   \n",
            "=================================================================\n",
            "input_1 (InputLayer)         (None, 150, 150, 3)       0         \n",
            "_________________________________________________________________\n",
            "block1_conv1 (Conv2D)        (None, 150, 150, 64)      1792      \n",
            "_________________________________________________________________\n",
            "block1_conv2 (Conv2D)        (None, 150, 150, 64)      36928     \n",
            "_________________________________________________________________\n",
            "block1_pool (MaxPooling2D)   (None, 75, 75, 64)        0         \n",
            "_________________________________________________________________\n",
            "block2_conv1 (Conv2D)        (None, 75, 75, 128)       73856     \n",
            "_________________________________________________________________\n",
            "block2_conv2 (Conv2D)        (None, 75, 75, 128)       147584    \n",
            "_________________________________________________________________\n",
            "block2_pool (MaxPooling2D)   (None, 37, 37, 128)       0         \n",
            "_________________________________________________________________\n",
            "block3_conv1 (Conv2D)        (None, 37, 37, 256)       295168    \n",
            "_________________________________________________________________\n",
            "block3_conv2 (Conv2D)        (None, 37, 37, 256)       590080    \n",
            "_________________________________________________________________\n",
            "block3_conv3 (Conv2D)        (None, 37, 37, 256)       590080    \n",
            "_________________________________________________________________\n",
            "block3_pool (MaxPooling2D)   (None, 18, 18, 256)       0         \n",
            "_________________________________________________________________\n",
            "block4_conv1 (Conv2D)        (None, 18, 18, 512)       1180160   \n",
            "_________________________________________________________________\n",
            "block4_conv2 (Conv2D)        (None, 18, 18, 512)       2359808   \n",
            "_________________________________________________________________\n",
            "block4_conv3 (Conv2D)        (None, 18, 18, 512)       2359808   \n",
            "_________________________________________________________________\n",
            "block4_pool (MaxPooling2D)   (None, 9, 9, 512)         0         \n",
            "_________________________________________________________________\n",
            "block5_conv1 (Conv2D)        (None, 9, 9, 512)         2359808   \n",
            "_________________________________________________________________\n",
            "block5_conv2 (Conv2D)        (None, 9, 9, 512)         2359808   \n",
            "_________________________________________________________________\n",
            "block5_conv3 (Conv2D)        (None, 9, 9, 512)         2359808   \n",
            "_________________________________________________________________\n",
            "block5_pool (MaxPooling2D)   (None, 4, 4, 512)         0         \n",
            "=================================================================\n",
            "Total params: 14,714,688\n",
            "Trainable params: 14,714,688\n",
            "Non-trainable params: 0\n",
            "_________________________________________________________________\n"
          ],
          "name": "stdout"
        }
      ]
    },
    {
      "cell_type": "code",
      "metadata": {
        "id": "6P8mQx5Kln3r",
        "colab_type": "code",
        "colab": {}
      },
      "source": [
        "import os\n",
        "import numpy as np\n",
        "from keras.preprocessing.image import ImageDataGenerator\n"
      ],
      "execution_count": 0,
      "outputs": []
    },
    {
      "cell_type": "code",
      "metadata": {
        "id": "-qxAQhZBln35",
        "colab_type": "code",
        "outputId": "051afeec-b915-47dd-bf2f-b11aa5087e5c",
        "colab": {
          "base_uri": "https://localhost:8080/",
          "height": 68
        }
      },
      "source": [
        "base_dir = 'drive/My Drive/Colab Notebooks'\n",
        "train_dir = os.path.join(base_dir, 'train')\n",
        "validation_dir = os.path.join(base_dir, 'validation')\n",
        "test_dir = os.path.join(base_dir, 'test')\n",
        "datagen = ImageDataGenerator(rescale=1./255)\n",
        "batch_size = 10\n",
        "def extract_features(directory, sample_count):\n",
        "    features = np.zeros(shape=(sample_count, 4, 4, 512))\n",
        "    labels = np.zeros(shape=(sample_count))\n",
        "    generator = datagen.flow_from_directory(\n",
        "    directory,\n",
        "    target_size=(150, 150),\n",
        "    batch_size=batch_size,\n",
        "    class_mode='binary')\n",
        "    i=0\n",
        "    for inputs_batch, labels_batch in generator:\n",
        "        features_batch = conv_base.predict(inputs_batch)\n",
        "        features[i * batch_size : (i + 1) * batch_size] = features_batch\n",
        "        labels[i * batch_size : (i + 1) * batch_size] = labels_batch\n",
        "        i += 1\n",
        "        if i * batch_size >= sample_count:\n",
        "            break\n",
        "    return features, labels\n",
        "train_features, train_labels = extract_features(train_dir, 300)\n",
        "validation_features, validation_labels = extract_features(validation_dir, 112)\n",
        "test_features, test_labels = extract_features(test_dir, 112)\n",
        "\n",
        "train_features = np.reshape(train_features, (300, 4*4* 512))\n",
        "validation_features = np.reshape(validation_features, (112, 4*4* 512))\n",
        "test_features = np.reshape(test_features, (112, 4*4* 512))"
      ],
      "execution_count": 5,
      "outputs": [
        {
          "output_type": "stream",
          "text": [
            "Found 308 images belonging to 14 classes.\n",
            "Found 112 images belonging to 14 classes.\n",
            "Found 112 images belonging to 14 classes.\n"
          ],
          "name": "stdout"
        }
      ]
    },
    {
      "cell_type": "code",
      "metadata": {
        "id": "s5ZXBlLQlpCB",
        "colab_type": "code",
        "outputId": "61bbe7de-0746-4734-f551-98d8657cc55a",
        "colab": {
          "base_uri": "https://localhost:8080/",
          "height": 1000
        }
      },
      "source": [
        "from keras import models\n",
        "from keras import layers\n",
        "from keras import optimizers \n",
        "from keras.utils import to_categorical\n",
        "import matplotlib.pyplot as plt\n",
        "model = models.Sequential()\n",
        "model.add(layers.Dense(256, activation='relu', input_dim=4 * 4 * 512))\n",
        "model.add(layers.Dropout(0.1))\n",
        "model.add(layers.Dense(14, activation='sigmoid'))\n",
        "model.compile(loss='categorical_crossentropy',optimizer=optimizers.RMSprop(lr=2e-5, rho=0.9),\n",
        "              metrics=['accuracy'])          \n",
        "history = model.fit(train_features,to_categorical(train_labels),\n",
        "epochs=30,\n",
        "batch_size=10,\n",
        "validation_data=(validation_features, to_categorical(validation_labels)))\n",
        "\n"
      ],
      "execution_count": 6,
      "outputs": [
        {
          "output_type": "stream",
          "text": [
            "WARNING:tensorflow:From /usr/local/lib/python3.6/dist-packages/keras/backend/tensorflow_backend.py:148: The name tf.placeholder_with_default is deprecated. Please use tf.compat.v1.placeholder_with_default instead.\n",
            "\n",
            "WARNING:tensorflow:From /usr/local/lib/python3.6/dist-packages/keras/backend/tensorflow_backend.py:3733: calling dropout (from tensorflow.python.ops.nn_ops) with keep_prob is deprecated and will be removed in a future version.\n",
            "Instructions for updating:\n",
            "Please use `rate` instead of `keep_prob`. Rate should be set to `rate = 1 - keep_prob`.\n",
            "WARNING:tensorflow:From /usr/local/lib/python3.6/dist-packages/keras/optimizers.py:793: The name tf.train.Optimizer is deprecated. Please use tf.compat.v1.train.Optimizer instead.\n",
            "\n",
            "WARNING:tensorflow:From /usr/local/lib/python3.6/dist-packages/keras/backend/tensorflow_backend.py:3576: The name tf.log is deprecated. Please use tf.math.log instead.\n",
            "\n",
            "WARNING:tensorflow:From /usr/local/lib/python3.6/dist-packages/tensorflow_core/python/ops/math_grad.py:1424: where (from tensorflow.python.ops.array_ops) is deprecated and will be removed in a future version.\n",
            "Instructions for updating:\n",
            "Use tf.where in 2.0, which has the same broadcast rule as np.where\n",
            "WARNING:tensorflow:From /usr/local/lib/python3.6/dist-packages/keras/backend/tensorflow_backend.py:1033: The name tf.assign_add is deprecated. Please use tf.compat.v1.assign_add instead.\n",
            "\n",
            "WARNING:tensorflow:From /usr/local/lib/python3.6/dist-packages/keras/backend/tensorflow_backend.py:1020: The name tf.assign is deprecated. Please use tf.compat.v1.assign instead.\n",
            "\n",
            "Train on 300 samples, validate on 112 samples\n",
            "Epoch 1/30\n",
            "300/300 [==============================] - 1s 4ms/step - loss: 2.6110 - acc: 0.1067 - val_loss: 2.4748 - val_acc: 0.2054\n",
            "Epoch 2/30\n",
            "300/300 [==============================] - 1s 2ms/step - loss: 2.4229 - acc: 0.2433 - val_loss: 2.3109 - val_acc: 0.4464\n",
            "Epoch 3/30\n",
            "300/300 [==============================] - 1s 2ms/step - loss: 2.2631 - acc: 0.4567 - val_loss: 2.1316 - val_acc: 0.7768\n",
            "Epoch 4/30\n",
            "300/300 [==============================] - 1s 2ms/step - loss: 2.0788 - acc: 0.6400 - val_loss: 1.9213 - val_acc: 0.9196\n",
            "Epoch 5/30\n",
            "300/300 [==============================] - 1s 2ms/step - loss: 1.8631 - acc: 0.7667 - val_loss: 1.6850 - val_acc: 0.9643\n",
            "Epoch 6/30\n",
            "300/300 [==============================] - 1s 3ms/step - loss: 1.6333 - acc: 0.8500 - val_loss: 1.4516 - val_acc: 0.9643\n",
            "Epoch 7/30\n",
            "300/300 [==============================] - 1s 2ms/step - loss: 1.4280 - acc: 0.9000 - val_loss: 1.2280 - val_acc: 0.9732\n",
            "Epoch 8/30\n",
            "300/300 [==============================] - 1s 2ms/step - loss: 1.2235 - acc: 0.9333 - val_loss: 1.0245 - val_acc: 0.9821\n",
            "Epoch 9/30\n",
            "300/300 [==============================] - 1s 3ms/step - loss: 1.0411 - acc: 0.9467 - val_loss: 0.8487 - val_acc: 0.9911\n",
            "Epoch 10/30\n",
            "300/300 [==============================] - 1s 2ms/step - loss: 0.8852 - acc: 0.9567 - val_loss: 0.7006 - val_acc: 1.0000\n",
            "Epoch 11/30\n",
            "300/300 [==============================] - 1s 2ms/step - loss: 0.7256 - acc: 0.9767 - val_loss: 0.5753 - val_acc: 0.9911\n",
            "Epoch 12/30\n",
            "300/300 [==============================] - 1s 2ms/step - loss: 0.6207 - acc: 0.9800 - val_loss: 0.4728 - val_acc: 1.0000\n",
            "Epoch 13/30\n",
            "300/300 [==============================] - 1s 2ms/step - loss: 0.5448 - acc: 0.9733 - val_loss: 0.3871 - val_acc: 1.0000\n",
            "Epoch 14/30\n",
            "300/300 [==============================] - 1s 2ms/step - loss: 0.4544 - acc: 0.9867 - val_loss: 0.3174 - val_acc: 1.0000\n",
            "Epoch 15/30\n",
            "300/300 [==============================] - 1s 2ms/step - loss: 0.3852 - acc: 0.9800 - val_loss: 0.2643 - val_acc: 1.0000\n",
            "Epoch 16/30\n",
            "300/300 [==============================] - 1s 2ms/step - loss: 0.3351 - acc: 0.9933 - val_loss: 0.2204 - val_acc: 1.0000\n",
            "Epoch 17/30\n",
            "300/300 [==============================] - 1s 2ms/step - loss: 0.2863 - acc: 0.9967 - val_loss: 0.1828 - val_acc: 1.0000\n",
            "Epoch 18/30\n",
            "300/300 [==============================] - 1s 2ms/step - loss: 0.2260 - acc: 1.0000 - val_loss: 0.1513 - val_acc: 1.0000\n",
            "Epoch 19/30\n",
            "300/300 [==============================] - 1s 2ms/step - loss: 0.2068 - acc: 0.9933 - val_loss: 0.1272 - val_acc: 1.0000\n",
            "Epoch 20/30\n",
            "300/300 [==============================] - 1s 2ms/step - loss: 0.1924 - acc: 1.0000 - val_loss: 0.1087 - val_acc: 1.0000\n",
            "Epoch 21/30\n",
            "300/300 [==============================] - 1s 2ms/step - loss: 0.1590 - acc: 1.0000 - val_loss: 0.0919 - val_acc: 1.0000\n",
            "Epoch 22/30\n",
            "300/300 [==============================] - 1s 2ms/step - loss: 0.1356 - acc: 0.9933 - val_loss: 0.0774 - val_acc: 1.0000\n",
            "Epoch 23/30\n",
            "300/300 [==============================] - 1s 2ms/step - loss: 0.1032 - acc: 1.0000 - val_loss: 0.0646 - val_acc: 1.0000\n",
            "Epoch 24/30\n",
            "300/300 [==============================] - 1s 2ms/step - loss: 0.0970 - acc: 1.0000 - val_loss: 0.0550 - val_acc: 1.0000\n",
            "Epoch 25/30\n",
            "300/300 [==============================] - 1s 2ms/step - loss: 0.0802 - acc: 1.0000 - val_loss: 0.0461 - val_acc: 1.0000\n",
            "Epoch 26/30\n",
            "300/300 [==============================] - 1s 2ms/step - loss: 0.0682 - acc: 1.0000 - val_loss: 0.0388 - val_acc: 1.0000\n",
            "Epoch 27/30\n",
            "300/300 [==============================] - 1s 2ms/step - loss: 0.0609 - acc: 1.0000 - val_loss: 0.0329 - val_acc: 1.0000\n",
            "Epoch 28/30\n",
            "300/300 [==============================] - 1s 2ms/step - loss: 0.0571 - acc: 1.0000 - val_loss: 0.0290 - val_acc: 1.0000\n",
            "Epoch 29/30\n",
            "300/300 [==============================] - 1s 3ms/step - loss: 0.0546 - acc: 1.0000 - val_loss: 0.0252 - val_acc: 1.0000\n",
            "Epoch 30/30\n",
            "300/300 [==============================] - 1s 2ms/step - loss: 0.0459 - acc: 0.9967 - val_loss: 0.0225 - val_acc: 1.0000\n"
          ],
          "name": "stdout"
        }
      ]
    },
    {
      "cell_type": "code",
      "metadata": {
        "id": "vfW5Ecw5_Fn5",
        "colab_type": "code",
        "outputId": "cde6a7a5-828a-464a-a4bd-70d583c767bb",
        "colab": {
          "base_uri": "https://localhost:8080/",
          "height": 545
        }
      },
      "source": [
        "import matplotlib.pyplot as plt\n",
        "acc = history.history['acc']\n",
        "val_acc = history.history['val_acc']\n",
        "loss = history.history['loss']\n",
        "val_loss = history.history['val_loss']\n",
        "epochs = range(1, len(acc) + 1)\n",
        "plt.plot(epochs, acc, 'bo', label='Training acc')\n",
        "plt.plot(epochs, val_acc, 'b', label='Validation acc')\n",
        "plt.title('Training and validation accuracy')\n",
        "plt.legend()\n",
        "plt.figure()\n",
        "plt.plot(epochs, loss, 'bo', label='Training loss')\n",
        "plt.plot(epochs, val_loss, 'b', label='Validation loss')\n",
        "plt.title('Training and validation loss')\n",
        "plt.legend()\n",
        "plt.show()"
      ],
      "execution_count": 7,
      "outputs": [
        {
          "output_type": "display_data",
          "data": {
            "image/png": "[encoded data removed]",
            "text/plain": [
              "<Figure size 432x288 with 1 Axes>"
            ]
          },
          "metadata": {
            "tags": []
          }
        },
        {
          "output_type": "display_data",
          "data": {
            "image/png": "[encoded data removed]",
            "text/plain": [
              "<Figure size 432x288 with 1 Axes>"
            ]
          },
          "metadata": {
            "tags": []
          }
        }
      ]
    },
    {
      "cell_type": "code",
      "metadata": {
        "id": "xHQXXWM0DGGH",
        "colab_type": "code",
        "colab": {}
      },
      "source": [
        "model.save('drive/My Drive/Colab Notebooks/feature_extraction_basic2.h5')"
      ],
      "execution_count": 0,
      "outputs": []
    },
    {
      "cell_type": "code",
      "metadata": {
        "id": "Juyzd-wIFKV_",
        "colab_type": "code",
        "outputId": "d4976fe1-a439-4eb3-be0c-a680f7bb636a",
        "colab": {
          "base_uri": "https://localhost:8080/",
          "height": 289
        }
      },
      "source": [
        "from keras import models\n",
        "from keras import layers\n",
        "model = models.Sequential()\n",
        "model.add(conv_base)\n",
        "model.add(layers.Flatten())\n",
        "model.add(layers.Dense(256, activation='relu'))\n",
        "model.add(layers.Dense(14, activation='sigmoid'))\n",
        "model.summary()"
      ],
      "execution_count": 9,
      "outputs": [
        {
          "output_type": "stream",
          "text": [
            "Model: \"sequential_2\"\n",
            "_________________________________________________________________\n",
            "Layer (type)                 Output Shape              Param #   \n",
            "=================================================================\n",
            "vgg16 (Model)                (None, 4, 4, 512)         14714688  \n",
            "_________________________________________________________________\n",
            "flatten_1 (Flatten)          (None, 8192)              0         \n",
            "_________________________________________________________________\n",
            "dense_3 (Dense)              (None, 256)               2097408   \n",
            "_________________________________________________________________\n",
            "dense_4 (Dense)              (None, 14)                3598      \n",
            "=================================================================\n",
            "Total params: 16,815,694\n",
            "Trainable params: 16,815,694\n",
            "Non-trainable params: 0\n",
            "_________________________________________________________________\n"
          ],
          "name": "stdout"
        }
      ]
    },
    {
      "cell_type": "code",
      "metadata": {
        "id": "lOgy-KxlGAs8",
        "colab_type": "code",
        "outputId": "5c46b835-c0f3-4bb2-8524-8e8a128bd00c",
        "colab": {
          "base_uri": "https://localhost:8080/",
          "height": 51
        }
      },
      "source": [
        "print('This is the number of trainable weights '\n",
        "'before freezing the conv base:', len(model.trainable_weights))\n",
        "#This is the number of trainable weights before freezing the conv base: 30\n",
        "conv_base.trainable = False\n",
        "print('This is the number of trainable weights '\n",
        "'after freezing the conv base:', len(model.trainable_weights))\n",
        "#This is the number of trainable weights after freezing the conv base: 4"
      ],
      "execution_count": 10,
      "outputs": [
        {
          "output_type": "stream",
          "text": [
            "This is the number of trainable weights before freezing the conv base: 30\n",
            "This is the number of trainable weights after freezing the conv base: 4\n"
          ],
          "name": "stdout"
        }
      ]
    },
    {
      "cell_type": "code",
      "metadata": {
        "colab_type": "code",
        "outputId": "d3bc5af6-5e98-4b44-a0e0-af20eec4e45d",
        "id": "3F2WgwR3iIFW",
        "colab": {
          "base_uri": "https://localhost:8080/",
          "height": 411
        }
      },
      "source": [
        "from keras.preprocessing.image import ImageDataGenerator\n",
        "from keras import optimizers\n",
        "# base_dir = 'drive/My Drive/Colab Notebooks'\n",
        "# train_dir = os.path.join(base_dir, 'train')\n",
        "# validation_dir = os.path.join(base_dir, 'validation')\n",
        "# test_dir = os.path.join(base_dir, 'test')\n",
        "train_datagen = ImageDataGenerator(\n",
        "rescale=1./255,\n",
        "rotation_range=40,\n",
        "width_shift_range=0.2,\n",
        "height_shift_range=0.2,\n",
        "shear_range=0.2,\n",
        "zoom_range=0.2,\n",
        "horizontal_flip=True,\n",
        "fill_mode='nearest')\n",
        "test_datagen = ImageDataGenerator(rescale=1./255)\n",
        "train_generator = train_datagen.flow_from_directory(\n",
        "train_dir,\n",
        "target_size=(150, 150),\n",
        "batch_size=10,\n",
        "class_mode='categorical')\n",
        "validation_generator = test_datagen.flow_from_directory(\n",
        "validation_dir,\n",
        "target_size=(150, 150),\n",
        "batch_size=10,\n",
        "class_mode='categorical')\n",
        "model.compile(loss='categorical_crossentropy',\n",
        "optimizer=optimizers.RMSprop(lr=2e-5),\n",
        "metrics=['acc'])\n",
        "history = model.fit_generator(\n",
        "train_generator,\n",
        "steps_per_epoch=100,\n",
        "epochs=10,\n",
        "validation_data=validation_generator,\n",
        "validation_steps=50)"
      ],
      "execution_count": 11,
      "outputs": [
        {
          "output_type": "stream",
          "text": [
            "Found 308 images belonging to 14 classes.\n",
            "Found 112 images belonging to 14 classes.\n",
            "Epoch 1/10\n",
            "100/100 [==============================] - 325s 3s/step - loss: 2.5174 - acc: 0.2458 - val_loss: 2.2888 - val_acc: 0.6368\n",
            "Epoch 2/10\n",
            "100/100 [==============================] - 324s 3s/step - loss: 2.1814 - acc: 0.5435 - val_loss: 1.8263 - val_acc: 0.8568\n",
            "Epoch 3/10\n",
            "100/100 [==============================] - 325s 3s/step - loss: 1.7397 - acc: 0.7498 - val_loss: 1.2890 - val_acc: 0.9615\n",
            "Epoch 4/10\n",
            "100/100 [==============================] - 324s 3s/step - loss: 1.3196 - acc: 0.8637 - val_loss: 0.8499 - val_acc: 1.0000\n",
            "Epoch 5/10\n",
            "100/100 [==============================] - 325s 3s/step - loss: 0.9801 - acc: 0.9310 - val_loss: 0.5598 - val_acc: 0.9915\n",
            "Epoch 6/10\n",
            "100/100 [==============================] - 324s 3s/step - loss: 0.7208 - acc: 0.9505 - val_loss: 0.3753 - val_acc: 1.0000\n",
            "Epoch 7/10\n",
            "100/100 [==============================] - 326s 3s/step - loss: 0.5810 - acc: 0.9615 - val_loss: 0.2548 - val_acc: 1.0000\n",
            "Epoch 8/10\n",
            "100/100 [==============================] - 329s 3s/step - loss: 0.4280 - acc: 0.9738 - val_loss: 0.1779 - val_acc: 1.0000\n",
            "Epoch 9/10\n",
            "100/100 [==============================] - 340s 3s/step - loss: 0.3403 - acc: 0.9858 - val_loss: 0.1327 - val_acc: 1.0000\n",
            "Epoch 10/10\n",
            "100/100 [==============================] - 340s 3s/step - loss: 0.2899 - acc: 0.9850 - val_loss: 0.0971 - val_acc: 1.0000\n"
          ],
          "name": "stdout"
        }
      ]
    },
    {
      "cell_type": "code",
      "metadata": {
        "id": "5anBfNC6vqPF",
        "colab_type": "code",
        "colab": {
          "base_uri": "https://localhost:8080/",
          "height": 545
        },
        "outputId": "b279bd72-5de1-4a1c-b98c-76980d06b380"
      },
      "source": [
        "import matplotlib.pyplot as plt\n",
        "acc = history.history['acc']\n",
        "val_acc = history.history['val_acc']\n",
        "loss = history.history['loss']\n",
        "val_loss = history.history['val_loss']\n",
        "epochs = range(1, len(acc) + 1)\n",
        "plt.plot(epochs, acc, 'bo', label='Training acc')\n",
        "plt.plot(epochs, val_acc, 'b', label='Validation acc')\n",
        "plt.title('Training and validation accuracy')\n",
        "plt.legend()\n",
        "plt.figure()\n",
        "plt.plot(epochs, loss, 'bo', label='Training loss')\n",
        "plt.plot(epochs, val_loss, 'b', label='Validation loss')\n",
        "plt.title('Training and validation loss')\n",
        "plt.legend()\n",
        "plt.show()"
      ],
      "execution_count": 12,
      "outputs": [
        {
          "output_type": "display_data",
          "data": {
            "image/png": "[encoded data removed]",
            "text/plain": [
              "<Figure size 432x288 with 1 Axes>"
            ]
          },
          "metadata": {
            "tags": []
          }
        },
        {
          "output_type": "display_data",
          "data": {
            "image/png": "[encoded data removed]",
            "text/plain": [
              "<Figure size 432x288 with 1 Axes>"
            ]
          },
          "metadata": {
            "tags": []
          }
        }
      ]
    },
    {
      "cell_type": "code",
      "metadata": {
        "id": "IUCiYv1GBjF0",
        "colab_type": "code",
        "colab": {
          "base_uri": "https://localhost:8080/",
          "height": 799
        },
        "outputId": "f875cb37-a0e1-4de3-c19d-b60b0107fdec"
      },
      "source": [
        "conv_base.summary()"
      ],
      "execution_count": 13,
      "outputs": [
        {
          "output_type": "stream",
          "text": [
            "Model: \"vgg16\"\n",
            "_________________________________________________________________\n",
            "Layer (type)                 Output Shape              Param #   \n",
            "=================================================================\n",
            "input_1 (InputLayer)         (None, 150, 150, 3)       0         \n",
            "_________________________________________________________________\n",
            "block1_conv1 (Conv2D)        (None, 150, 150, 64)      1792      \n",
            "_________________________________________________________________\n",
            "block1_conv2 (Conv2D)        (None, 150, 150, 64)      36928     \n",
            "_________________________________________________________________\n",
            "block1_pool (MaxPooling2D)   (None, 75, 75, 64)        0         \n",
            "_________________________________________________________________\n",
            "block2_conv1 (Conv2D)        (None, 75, 75, 128)       73856     \n",
            "_________________________________________________________________\n",
            "block2_conv2 (Conv2D)        (None, 75, 75, 128)       147584    \n",
            "_________________________________________________________________\n",
            "block2_pool (MaxPooling2D)   (None, 37, 37, 128)       0         \n",
            "_________________________________________________________________\n",
            "block3_conv1 (Conv2D)        (None, 37, 37, 256)       295168    \n",
            "_________________________________________________________________\n",
            "block3_conv2 (Conv2D)        (None, 37, 37, 256)       590080    \n",
            "_________________________________________________________________\n",
            "block3_conv3 (Conv2D)        (None, 37, 37, 256)       590080    \n",
            "_________________________________________________________________\n",
            "block3_pool (MaxPooling2D)   (None, 18, 18, 256)       0         \n",
            "_________________________________________________________________\n",
            "block4_conv1 (Conv2D)        (None, 18, 18, 512)       1180160   \n",
            "_________________________________________________________________\n",
            "block4_conv2 (Conv2D)        (None, 18, 18, 512)       2359808   \n",
            "_________________________________________________________________\n",
            "block4_conv3 (Conv2D)        (None, 18, 18, 512)       2359808   \n",
            "_________________________________________________________________\n",
            "block4_pool (MaxPooling2D)   (None, 9, 9, 512)         0         \n",
            "_________________________________________________________________\n",
            "block5_conv1 (Conv2D)        (None, 9, 9, 512)         2359808   \n",
            "_________________________________________________________________\n",
            "block5_conv2 (Conv2D)        (None, 9, 9, 512)         2359808   \n",
            "_________________________________________________________________\n",
            "block5_conv3 (Conv2D)        (None, 9, 9, 512)         2359808   \n",
            "_________________________________________________________________\n",
            "block5_pool (MaxPooling2D)   (None, 4, 4, 512)         0         \n",
            "=================================================================\n",
            "Total params: 14,714,688\n",
            "Trainable params: 0\n",
            "Non-trainable params: 14,714,688\n",
            "_________________________________________________________________\n"
          ],
          "name": "stdout"
        }
      ]
    },
    {
      "cell_type": "code",
      "metadata": {
        "id": "ra1dS_0DByY3",
        "colab_type": "code",
        "colab": {}
      },
      "source": [
        "conv_base.trainable = True\n",
        "set_trainable = False\n",
        "for layer in conv_base.layers:\n",
        "  if layer.name == 'block5_conv1':\n",
        "    set_trainable = True\n",
        "  if set_trainable:\n",
        "    layer.trainable = True\n",
        "  else:\n",
        "    layer.trainable = False"
      ],
      "execution_count": 0,
      "outputs": []
    },
    {
      "cell_type": "code",
      "metadata": {
        "id": "XDnhcQ97CDb9",
        "colab_type": "code",
        "colab": {
          "base_uri": "https://localhost:8080/",
          "height": 377
        },
        "outputId": "46030d98-ad9f-47f3-aef6-c959879c4e54"
      },
      "source": [
        "model.compile(loss='categorical_crossentropy',\n",
        "optimizer=optimizers.RMSprop(lr=2e-5),\n",
        "metrics=['acc'])\n",
        "history = model.fit_generator(\n",
        "train_generator,\n",
        "steps_per_epoch=100,\n",
        "epochs=10,\n",
        "validation_data=validation_generator,\n",
        "validation_steps=50)"
      ],
      "execution_count": 22,
      "outputs": [
        {
          "output_type": "stream",
          "text": [
            "Epoch 1/10\n",
            "100/100 [==============================] - 399s 4s/step - loss: 0.0270 - acc: 0.9920 - val_loss: 3.9462e-04 - val_acc: 1.0000\n",
            "Epoch 2/10\n",
            "100/100 [==============================] - 401s 4s/step - loss: 0.0135 - acc: 0.9940 - val_loss: 1.2802e-04 - val_acc: 1.0000\n",
            "Epoch 3/10\n",
            "100/100 [==============================] - 400s 4s/step - loss: 0.0146 - acc: 0.9980 - val_loss: 9.0453e-05 - val_acc: 1.0000\n",
            "Epoch 4/10\n",
            "100/100 [==============================] - 400s 4s/step - loss: 0.0207 - acc: 0.9948 - val_loss: 0.0036 - val_acc: 1.0000\n",
            "Epoch 5/10\n",
            "100/100 [==============================] - 398s 4s/step - loss: 0.0144 - acc: 0.9950 - val_loss: 3.9158e-05 - val_acc: 1.0000\n",
            "Epoch 6/10\n",
            "100/100 [==============================] - 396s 4s/step - loss: 0.0146 - acc: 0.9960 - val_loss: 4.2634e-05 - val_acc: 1.0000\n",
            "Epoch 7/10\n",
            "100/100 [==============================] - 398s 4s/step - loss: 0.0020 - acc: 1.0000 - val_loss: 1.2671e-06 - val_acc: 1.0000\n",
            "Epoch 8/10\n",
            "100/100 [==============================] - 399s 4s/step - loss: 0.0397 - acc: 0.9950 - val_loss: 6.2841e-06 - val_acc: 1.0000\n",
            "Epoch 9/10\n",
            "100/100 [==============================] - 398s 4s/step - loss: 0.0118 - acc: 0.9980 - val_loss: 9.8287e-06 - val_acc: 1.0000\n",
            "Epoch 10/10\n",
            "100/100 [==============================] - 398s 4s/step - loss: 0.0010 - acc: 1.0000 - val_loss: 6.8966e-07 - val_acc: 1.0000\n"
          ],
          "name": "stdout"
        }
      ]
    },
    {
      "cell_type": "code",
      "metadata": {
        "id": "YX2T0Gc_Wujb",
        "colab_type": "code",
        "colab": {
          "base_uri": "https://localhost:8080/",
          "height": 545
        },
        "outputId": "4aedd78c-0faa-46bc-8bd5-1d00ee8c464a"
      },
      "source": [
        "def smooth_curve(points, factor=0.1):\n",
        "  smoothed_points = []\n",
        "  for point in points:\n",
        "    if smoothed_points:\n",
        "      previous = smoothed_points[-1]\n",
        "      smoothed_points.append(previous * factor + point * (1 - factor))\n",
        "    else:\n",
        "        smoothed_points.append(point)\n",
        "  return smoothed_points\n",
        "plt.plot(epochs,\n",
        "  smooth_curve(acc), 'bo', label='Smoothed training acc')\n",
        "plt.plot(epochs,\n",
        "  smooth_curve(val_acc), 'b', label='Smoothed validation acc')\n",
        "plt.title('Training and validation accuracy')\n",
        "plt.legend()\n",
        "plt.figure()\n",
        "plt.plot(epochs,\n",
        "  smooth_curve(loss), 'bo', label='Smoothed training loss')\n",
        "plt.plot(epochs,\n",
        "  smooth_curve(val_loss), 'b', label='Smoothed validation loss')\n",
        "plt.title('Training and validation loss')\n",
        "plt.legend()\n",
        "plt.show()\n"
      ],
      "execution_count": 25,
      "outputs": [
        {
          "output_type": "display_data",
          "data": {
            "image/png": "[encoded data removed]",
            "text/plain": [
              "<Figure size 432x288 with 1 Axes>"
            ]
          },
          "metadata": {
            "tags": []
          }
        },
        {
          "output_type": "display_data",
          "data": {
            "image/png": "[encoded data removed]",
            "text/plain": [
              "<Figure size 432x288 with 1 Axes>"
            ]
          },
          "metadata": {
            "tags": []
          }
        }
      ]
    },
    {
      "cell_type": "code",
      "metadata": {
        "id": "rIfGz-r6YXCI",
        "colab_type": "code",
        "colab": {
          "base_uri": "https://localhost:8080/",
          "height": 51
        },
        "outputId": "b455465b-f449-4db3-8bb3-38a313494898"
      },
      "source": [
        "test_generator = test_datagen.flow_from_directory(\n",
        "test_dir,\n",
        "target_size=(150, 150),\n",
        "batch_size=10,\n",
        "class_mode='categorical')\n",
        "test_loss, test_acc = model.evaluate_generator(test_generator, steps=50)\n",
        "print('test acc:', test_acc)"
      ],
      "execution_count": 29,
      "outputs": [
        {
          "output_type": "stream",
          "text": [
            "Found 112 images belonging to 14 classes.\n",
            "test acc: 1.0\n"
          ],
          "name": "stdout"
        }
      ]
    }
  ]
}
